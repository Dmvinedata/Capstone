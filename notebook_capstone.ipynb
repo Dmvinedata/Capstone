{
 "cells": [
  {
   "cell_type": "markdown",
   "id": "d7bdc824",
   "metadata": {},
   "source": [
    "# Final Project Submission"
   ]
  },
  {
   "cell_type": "markdown",
   "id": "85b7083b",
   "metadata": {},
   "source": [
    "- Student Name: Deztany Jackson\n",
    "- Student Pace: Self Pace\n",
    "- Scheduled Project Review: April 7, 2023\n",
    "- Instructor Name: Morgan Jones\n",
    "\n"
   ]
  },
  {
   "cell_type": "markdown",
   "id": "fe424c46",
   "metadata": {},
   "source": [
    "Main Library Elemenets:\n",
    "[Checklist](https://docs.google.com/document/d/1swj3BthL_M1IzJzkOmzhCWc595sRC6WrFI8S-xTKCr0/edit)"
   ]
  },
  {
   "cell_type": "markdown",
   "id": "28ee0338",
   "metadata": {},
   "source": [
    "## Business Understanding"
   ]
  },
  {
   "cell_type": "markdown",
   "id": "5c0871de",
   "metadata": {},
   "source": [
    "# Clean up later\n",
    "- Real estate company (Primary Stakeholder) wanting to partner with the local pet adoption agency\n",
    "    - Adoption, Animals, Buyers/Sellers (potential adoptees), Adoptees (potenial customers), Data Scientist\n",
    "    - Wants to minimize danger and make neighbor hoods attractive while caring for animals and potentially getting customers to to think about housing needs and pet adoption at same time\n",
    "Assumptions:\n",
    "    - The RE is not a SME in adoption and animals, so they only care if an animal wiill be adopted by closing - Binary Classification\n",
    "    [https://towardsdatascience.com/the-3-most-important-basic-classification-metrics-3368dd425f74](https://towardsdatascience.com/the-3-most-important-basic-classification-metrics-3368dd425f74)\n",
    "    - Want Precision to maximize TP and minimize FP of adoptees when I have results that tell me a lot of animals will be adopted.  Dont want to sell or rent and put integrity on line...\n",
    "    - RE agents care about knowing the true total when the TP is low and a higher FN.. ...Recall\n",
    "Questions: \n",
    "    - What is the average time until close\n",
    "    - What happens with most animals when people are evicted?\n",
    "    - Why are most animals given up for adoption?\n",
    "    - What area are we focused on?\n",
    "Metrics:\n",
    "    AUC-ROC True Positive Rate against False Positive Rate\n",
    "    Minimize False Positives (Precision)"
   ]
  },
  {
   "cell_type": "markdown",
   "id": "b3505c28",
   "metadata": {},
   "source": [
    "## Import Libraries"
   ]
  },
  {
   "cell_type": "code",
   "execution_count": 16,
   "id": "76a6cfb9",
   "metadata": {},
   "outputs": [],
   "source": [
    "import os\n",
    "import glob\n",
    "\n",
    "import pandas as pd\n",
    "import numpy as np\n",
    "from matplotlib import pyplot as plt\n",
    "import seaborn as sns\n",
    "\n",
    "\n",
    "from sklearn.model_selection import train_test_split, GridSearchCV, cross_val_score\n",
    "from sklearn.dummy import DummyClassifier\n",
    "from sklearn.pipeline import Pipeline\n",
    "from sklearn.preprocessing import StandardScaler\n",
    "from sklearn.linear_model import LogisticRegression\n",
    "from sklearn.tree import DecisionTreeClassifier\n",
    "from sklearn.ensemble import RandomForestClassifier\n",
    "#Import Knn\n",
    "\n",
    "from sklearn.metrics import ConfusionMatrixDisplay,classification_report,recall_score,accuracy_score, auc\n",
    "from sklearn.metrics import precision_score, f1_score, confusion_matrix,  RocCurveDisplay\n",
    "from sklearn.metrics import precision_recall_curve,average_precision_score, make_scorer\n",
    "from sklearn.metrics import PrecisionRecallDisplay, PredictionErrorDisplay\n",
    "from sklearn import tree\n",
    "\n",
    "# Import tensorflow stuff from Model 4\n",
    "\n",
    "import warnings\n",
    "warnings.filterwarnings('ignore')\n",
    "\n",
    "from imblearn.over_sampling import SMOTE\n",
    "from imblearn.pipeline import Pipeline as ImPipeline"
   ]
  },
  {
   "cell_type": "markdown",
   "id": "0126cfef",
   "metadata": {},
   "source": [
    "## Data Import"
   ]
  },
  {
   "cell_type": "code",
   "execution_count": 17,
   "id": "bbc48db0",
   "metadata": {},
   "outputs": [
    {
     "data": {
      "text/plain": [
       "'/Users/deztanyjackson/Documents/0_Flatiron/Capstone_P5'"
      ]
     },
     "execution_count": 17,
     "metadata": {},
     "output_type": "execute_result"
    }
   ],
   "source": [
    "cur_dir = os.getcwd()\n",
    "cur_dir"
   ]
  },
  {
   "cell_type": "code",
   "execution_count": 49,
   "id": "61ec632f",
   "metadata": {},
   "outputs": [],
   "source": [
    "# Import training csv file\n",
    "train_df = pd.read_csv(\"data/train/train.csv\")\n",
    "test_df = pd.read_csv(\"data/test/test.csv\")\n",
    "state_df = pd.read_csv(\"data/StateLabels.csv\")\n",
    "color_df = pd.read_csv(\"data/ColorLabels.csv\")\n",
    "breed_df = pd.read_csv(\"data/BreedLabels.csv\")"
   ]
  },
  {
   "cell_type": "markdown",
   "id": "001a577f",
   "metadata": {},
   "source": [
    "This reference is wrong find right one...was loan predicitons\n",
    "[Loan Classification,Kamal Khumar, 2021 ](https://www.kaggle.com/code/kamalkhumar/loan-status-prediction)"
   ]
  },
  {
   "cell_type": "markdown",
   "id": "91ab5a9e",
   "metadata": {},
   "source": [
    "## Data Understanding"
   ]
  },
  {
   "cell_type": "markdown",
   "id": "83b5a731",
   "metadata": {},
   "source": [
    "### Dataset Description"
   ]
  },
  {
   "cell_type": "code",
   "execution_count": 55,
   "id": "7635f5b2",
   "metadata": {},
   "outputs": [],
   "source": [
    "# Come back to the Categorical Values of the AdoptionSpeed"
   ]
  },
  {
   "cell_type": "markdown",
   "id": "ec18aadb",
   "metadata": {},
   "source": [
    "<table style=\"width:100%\">\n",
    "<thead>\n",
    "<tr>\n",
    "<th style=\"text-align:center; font-weight: bold; font-size:14px\">Feature </th>\n",
    "<th style=\"text-align:center; font-weight: bold; font-size:14px\">Description</th>\n",
    "<th style=\"text-align:center; font-weight: bold; font-size:14px\">Data Type</th> \n",
    "</tr>\n",
    "</thead>\n",
    "<tbody>\n",
    "<td><b>Type</b></td>\n",
    "<td>Type of Animal<br> (1=Dog,2=Cat)</td>\n",
    "<td>Nominal Number</td>    \n",
    "<tr> \n",
    "<td><b>Name</b></td>\n",
    "<td>Name of Pet<br> (Empty if not named)</td>\n",
    "<td>String</td>\n",
    "</tr>\n",
    "<tr> \n",
    "<td><b>Age</b></td>\n",
    "<td>Age of pet when listed<br> (Months)</td>\n",
    "<td>Nominal Number</td>\n",
    "</tr>\n",
    "<tr>\n",
    "<td><b>Breed</b></td>\n",
    "<td>Breed1 (Primary breed),Breed2 (Secondary breed, if mixed) <br> (Ref Breedlabels dict)</td>\n",
    "<td>Nominal Number:String </td>\n",
    "</tr>\n",
    "<tr>\n",
    "<td><b>Gender</b></td>\n",
    "<td>Gender of pet <br> 1=Male, 2=Female, 3=Mixed, if profile represents group of pets)</td>\n",
    "<td>Nominal Number</td>\n",
    "</tr>\n",
    "<tr>\n",
    "<td><b>Color</b></td>\n",
    "<td>Colors of pets<br>Ref Colorlabels dict</td>\n",
    "<td>Nominal Number</td>\n",
    "</tr>\n",
    "<tr>\n",
    "<td><b>Maturity Size</b></td>\n",
    "<td>Number of Rooms <br>(1=Sm, 2=Med,3=Lg,4=XLg,0=Not Spec)</td>\n",
    "<td>Nominal Number</td>\n",
    "</tr>\n",
    "<tr>\n",
    "<td><b>Fur Length</b></td>\n",
    "<td>Fur Length<br>(1=Shrt, 2=Med,3=Lg,4=Lng,0=Not Spec) </td>\n",
    "<td>Nominal Number</td>\n",
    "</tr>\n",
    "<tr>\n",
    "<td><b>Vaccinated</b></td>\n",
    "<td>Pet has been vaccinated<br>(1=Yes,2=No,3=Not Sure)</td>\n",
    "<td>Nominal Number</td>\n",
    "</tr>\n",
    "<tr>\n",
    "<td><b>Dewormed</b></td>\n",
    "<td>Pet has been dewormed<br>(1=Yes,2=No,3=Not Sure)</td>\n",
    "<td>Nominal Number</td>\n",
    "</tr>\n",
    "<tr>\n",
    "<td><b>Sterilized</b></td>\n",
    "<td>Pet has been spayed/neutered<br>(1=Yes,2=No,3=Not Sure)</td>\n",
    "<td>Nominal Number</td>\n",
    "</tr>\n",
    "<tr>\n",
    "<td><b>Health</b></td>\n",
    "<td>Health Condition<br>(1=Healthy,2=Minor Inj,3=Serious Inj,0=Not Spec)</td>\n",
    "<td>Nominal</td>\n",
    "</tr>\n",
    "<tr>\n",
    "<td><b>Quantity</b></td>\n",
    "<td>Number of pets represented in profile<br></td>\n",
    "<td>Nominal Number</td>\n",
    "</tr>\n",
    "<tr>\n",
    "<td><b>Fee</b></td>\n",
    "<td>Adoption fee<br> (0=Free)</td>\n",
    "<td>Cardinal Number</td>\n",
    "</tr>\n",
    "<tr>\n",
    "<td><b>state</b></td>\n",
    "<td>State location in Malaysia <br>(Ref to StateLabels dict)</td>\n",
    "<td>Nominal Number</td>\n",
    "</tr>\n",
    "<tr>\n",
    "<td><b>RescuerID</b></td>\n",
    "<td>Unique hash ID of rescuer <br></td>\n",
    "<td>String</td>\n",
    "</tr>\n",
    "<tr>\n",
    "<td><b>VideoAmt</b></td>\n",
    "<td>Total uploaded videos for pet <br></td>\n",
    "<td>Nominal Number</td>\n",
    "</tr>\n",
    "<tr>\n",
    "<td><b>PhotoAmt</b></td>\n",
    "<td>Total uploaded videos for pet <br></td>\n",
    "<td>Nominal Number</td>\n",
    "</tr>\n",
    "<tr>\n",
    "<td><b>Description</b></td>\n",
    "<td>Profile write-up <br>(Primarily Eng, also Malay or Chinese)</td>\n",
    "<td>String Object</td>  \n",
    "</tr>\n",
    "<tr>    \n",
    "<td><b>AdoptionSpreed</b></td>\n",
    "<td>Categorical speed of adoption. Lower is faster.<br></td>\n",
    "<td>Nominal Number</td>  \n",
    "</tr>\n",
    "<tr>    \n",
    "<td><b>PetID</b></td>\n",
    "<td>Unique hash ID of pet profile<br></td>\n",
    "<td>String Object</td> \n",
    "</tbody>\n",
    "</table>"
   ]
  },
  {
   "cell_type": "markdown",
   "id": "f4988bb0",
   "metadata": {},
   "source": [
    "### Exploring Dataset"
   ]
  },
  {
   "cell_type": "markdown",
   "id": "f68a2681",
   "metadata": {},
   "source": [
    "The dataset from Kaggle had several files that will be used in the modeling effort.<br>\n",
    "- Training set (14993 entries)\n",
    "- Test set (3972 entries) \n",
    "- Breed labels (307 entries)\n",
    "- Color labels ( 7 entries)\n",
    "- State labels (15 entries)"
   ]
  },
  {
   "cell_type": "markdown",
   "id": "b7fcae53",
   "metadata": {},
   "source": [
    "EDA CHeatsheet https://datasans.medium.com/exploratory-data-analysis-cheatsheet-everything-you-might-need-36230538484d\n",
    "Review the values for the labels\n",
    "Review missing values\n",
    "review odd inputs for values (naan,)\n",
    "review columns that are not needed\n",
    "look at any imbalances\n",
    "correlation map\n",
    "    Do any need to be removed\n",
    "histogram\n",
    "check for outliers with scattering\n",
    "\n",
    "bar graph of primary correlated values\n",
    "use describe...\n",
    "What insights can you get from the percentages and plots\n",
    "Does anything need to be standardized?  Do we standardize categorical numbers?\n",
    "What plots will we use\n"
   ]
  },
  {
   "cell_type": "code",
   "execution_count": null,
   "id": "428ad494",
   "metadata": {},
   "outputs": [],
   "source": []
  },
  {
   "cell_type": "markdown",
   "id": "d2e4d1d7",
   "metadata": {},
   "source": [
    "Feature Engineering\n",
    "https://www.projectpro.io/article/8-feature-engineering-techniques-for-machine-learning/423Bin the speed categories for ease of the business problem"
   ]
  },
  {
   "cell_type": "code",
   "execution_count": null,
   "id": "5705d8bc",
   "metadata": {},
   "outputs": [],
   "source": [
    "# Exploring training set"
   ]
  },
  {
   "cell_type": "code",
   "execution_count": 56,
   "id": "d8ff3f83",
   "metadata": {
    "collapsed": true
   },
   "outputs": [
    {
     "data": {
      "text/html": [
       "<div>\n",
       "<style scoped>\n",
       "    .dataframe tbody tr th:only-of-type {\n",
       "        vertical-align: middle;\n",
       "    }\n",
       "\n",
       "    .dataframe tbody tr th {\n",
       "        vertical-align: top;\n",
       "    }\n",
       "\n",
       "    .dataframe thead th {\n",
       "        text-align: right;\n",
       "    }\n",
       "</style>\n",
       "<table border=\"1\" class=\"dataframe\">\n",
       "  <thead>\n",
       "    <tr style=\"text-align: right;\">\n",
       "      <th></th>\n",
       "      <th>Type</th>\n",
       "      <th>Name</th>\n",
       "      <th>Age</th>\n",
       "      <th>Breed1</th>\n",
       "      <th>Breed2</th>\n",
       "      <th>Gender</th>\n",
       "      <th>Color1</th>\n",
       "      <th>Color2</th>\n",
       "      <th>Color3</th>\n",
       "      <th>MaturitySize</th>\n",
       "      <th>...</th>\n",
       "      <th>Health</th>\n",
       "      <th>Quantity</th>\n",
       "      <th>Fee</th>\n",
       "      <th>State</th>\n",
       "      <th>RescuerID</th>\n",
       "      <th>VideoAmt</th>\n",
       "      <th>Description</th>\n",
       "      <th>PetID</th>\n",
       "      <th>PhotoAmt</th>\n",
       "      <th>AdoptionSpeed</th>\n",
       "    </tr>\n",
       "  </thead>\n",
       "  <tbody>\n",
       "    <tr>\n",
       "      <th>0</th>\n",
       "      <td>2</td>\n",
       "      <td>Nibble</td>\n",
       "      <td>3</td>\n",
       "      <td>299</td>\n",
       "      <td>0</td>\n",
       "      <td>1</td>\n",
       "      <td>1</td>\n",
       "      <td>7</td>\n",
       "      <td>0</td>\n",
       "      <td>1</td>\n",
       "      <td>...</td>\n",
       "      <td>1</td>\n",
       "      <td>1</td>\n",
       "      <td>100</td>\n",
       "      <td>41326</td>\n",
       "      <td>8480853f516546f6cf33aa88cd76c379</td>\n",
       "      <td>0</td>\n",
       "      <td>Nibble is a 3+ month old ball of cuteness. He ...</td>\n",
       "      <td>86e1089a3</td>\n",
       "      <td>1.0</td>\n",
       "      <td>2</td>\n",
       "    </tr>\n",
       "    <tr>\n",
       "      <th>1</th>\n",
       "      <td>2</td>\n",
       "      <td>No Name Yet</td>\n",
       "      <td>1</td>\n",
       "      <td>265</td>\n",
       "      <td>0</td>\n",
       "      <td>1</td>\n",
       "      <td>1</td>\n",
       "      <td>2</td>\n",
       "      <td>0</td>\n",
       "      <td>2</td>\n",
       "      <td>...</td>\n",
       "      <td>1</td>\n",
       "      <td>1</td>\n",
       "      <td>0</td>\n",
       "      <td>41401</td>\n",
       "      <td>3082c7125d8fb66f7dd4bff4192c8b14</td>\n",
       "      <td>0</td>\n",
       "      <td>I just found it alone yesterday near my apartm...</td>\n",
       "      <td>6296e909a</td>\n",
       "      <td>2.0</td>\n",
       "      <td>0</td>\n",
       "    </tr>\n",
       "    <tr>\n",
       "      <th>2</th>\n",
       "      <td>1</td>\n",
       "      <td>Brisco</td>\n",
       "      <td>1</td>\n",
       "      <td>307</td>\n",
       "      <td>0</td>\n",
       "      <td>1</td>\n",
       "      <td>2</td>\n",
       "      <td>7</td>\n",
       "      <td>0</td>\n",
       "      <td>2</td>\n",
       "      <td>...</td>\n",
       "      <td>1</td>\n",
       "      <td>1</td>\n",
       "      <td>0</td>\n",
       "      <td>41326</td>\n",
       "      <td>fa90fa5b1ee11c86938398b60abc32cb</td>\n",
       "      <td>0</td>\n",
       "      <td>Their pregnant mother was dumped by her irresp...</td>\n",
       "      <td>3422e4906</td>\n",
       "      <td>7.0</td>\n",
       "      <td>3</td>\n",
       "    </tr>\n",
       "    <tr>\n",
       "      <th>3</th>\n",
       "      <td>1</td>\n",
       "      <td>Miko</td>\n",
       "      <td>4</td>\n",
       "      <td>307</td>\n",
       "      <td>0</td>\n",
       "      <td>2</td>\n",
       "      <td>1</td>\n",
       "      <td>2</td>\n",
       "      <td>0</td>\n",
       "      <td>2</td>\n",
       "      <td>...</td>\n",
       "      <td>1</td>\n",
       "      <td>1</td>\n",
       "      <td>150</td>\n",
       "      <td>41401</td>\n",
       "      <td>9238e4f44c71a75282e62f7136c6b240</td>\n",
       "      <td>0</td>\n",
       "      <td>Good guard dog, very alert, active, obedience ...</td>\n",
       "      <td>5842f1ff5</td>\n",
       "      <td>8.0</td>\n",
       "      <td>2</td>\n",
       "    </tr>\n",
       "    <tr>\n",
       "      <th>4</th>\n",
       "      <td>1</td>\n",
       "      <td>Hunter</td>\n",
       "      <td>1</td>\n",
       "      <td>307</td>\n",
       "      <td>0</td>\n",
       "      <td>1</td>\n",
       "      <td>1</td>\n",
       "      <td>0</td>\n",
       "      <td>0</td>\n",
       "      <td>2</td>\n",
       "      <td>...</td>\n",
       "      <td>1</td>\n",
       "      <td>1</td>\n",
       "      <td>0</td>\n",
       "      <td>41326</td>\n",
       "      <td>95481e953f8aed9ec3d16fc4509537e8</td>\n",
       "      <td>0</td>\n",
       "      <td>This handsome yet cute boy is up for adoption....</td>\n",
       "      <td>850a43f90</td>\n",
       "      <td>3.0</td>\n",
       "      <td>2</td>\n",
       "    </tr>\n",
       "  </tbody>\n",
       "</table>\n",
       "<p>5 rows × 24 columns</p>\n",
       "</div>"
      ],
      "text/plain": [
       "   Type         Name  Age  Breed1  Breed2  Gender  Color1  Color2  Color3  \\\n",
       "0     2       Nibble    3     299       0       1       1       7       0   \n",
       "1     2  No Name Yet    1     265       0       1       1       2       0   \n",
       "2     1       Brisco    1     307       0       1       2       7       0   \n",
       "3     1         Miko    4     307       0       2       1       2       0   \n",
       "4     1       Hunter    1     307       0       1       1       0       0   \n",
       "\n",
       "   MaturitySize  ...  Health  Quantity  Fee  State  \\\n",
       "0             1  ...       1         1  100  41326   \n",
       "1             2  ...       1         1    0  41401   \n",
       "2             2  ...       1         1    0  41326   \n",
       "3             2  ...       1         1  150  41401   \n",
       "4             2  ...       1         1    0  41326   \n",
       "\n",
       "                          RescuerID  VideoAmt  \\\n",
       "0  8480853f516546f6cf33aa88cd76c379         0   \n",
       "1  3082c7125d8fb66f7dd4bff4192c8b14         0   \n",
       "2  fa90fa5b1ee11c86938398b60abc32cb         0   \n",
       "3  9238e4f44c71a75282e62f7136c6b240         0   \n",
       "4  95481e953f8aed9ec3d16fc4509537e8         0   \n",
       "\n",
       "                                         Description      PetID PhotoAmt  \\\n",
       "0  Nibble is a 3+ month old ball of cuteness. He ...  86e1089a3      1.0   \n",
       "1  I just found it alone yesterday near my apartm...  6296e909a      2.0   \n",
       "2  Their pregnant mother was dumped by her irresp...  3422e4906      7.0   \n",
       "3  Good guard dog, very alert, active, obedience ...  5842f1ff5      8.0   \n",
       "4  This handsome yet cute boy is up for adoption....  850a43f90      3.0   \n",
       "\n",
       "   AdoptionSpeed  \n",
       "0              2  \n",
       "1              0  \n",
       "2              3  \n",
       "3              2  \n",
       "4              2  \n",
       "\n",
       "[5 rows x 24 columns]"
      ]
     },
     "execution_count": 56,
     "metadata": {},
     "output_type": "execute_result"
    }
   ],
   "source": [
    "train_df.head()"
   ]
  },
  {
   "cell_type": "code",
   "execution_count": null,
   "id": "7c97668d",
   "metadata": {},
   "outputs": [],
   "source": []
  },
  {
   "cell_type": "code",
   "execution_count": 2,
   "id": "ed7cca60",
   "metadata": {},
   "outputs": [],
   "source": [
    "#Describe the data sources and explain why the data are suitable for the project\n",
    "#Present the size of the dataset and descriptive statistics for all features used in the analysis\n",
    "#Justify the inclusion of features based on their properties and relevance for the project\n",
    "#Identify any limitations of the data that have implications for the project\n"
   ]
  },
  {
   "cell_type": "code",
   "execution_count": null,
   "id": "12587e3c",
   "metadata": {},
   "outputs": [],
   "source": [
    "#Import labels as dictionaries, use  at end for presenting and specifically understand checking names\n",
    "#"
   ]
  },
  {
   "cell_type": "code",
   "execution_count": 28,
   "id": "24b29d55",
   "metadata": {},
   "outputs": [],
   "source": [
    "#If profile represents multiple bets, we will separate out or delete"
   ]
  },
  {
   "cell_type": "markdown",
   "id": "287c88f9",
   "metadata": {},
   "source": [
    "## Data Preparation"
   ]
  },
  {
   "cell_type": "markdown",
   "id": "5dcab2a6",
   "metadata": {},
   "source": [
    "## Modeling"
   ]
  },
  {
   "cell_type": "code",
   "execution_count": null,
   "id": "504887dc",
   "metadata": {},
   "outputs": [],
   "source": [
    "### "
   ]
  },
  {
   "cell_type": "code",
   "execution_count": null,
   "id": "681b6439",
   "metadata": {},
   "outputs": [],
   "source": []
  },
  {
   "cell_type": "markdown",
   "id": "e380d93c",
   "metadata": {},
   "source": [
    "### Final Model"
   ]
  },
  {
   "cell_type": "markdown",
   "id": "4a50f14f",
   "metadata": {},
   "source": [
    "## Evaluation"
   ]
  },
  {
   "cell_type": "markdown",
   "id": "11d37234",
   "metadata": {},
   "source": [
    "### Conclusion"
   ]
  },
  {
   "cell_type": "markdown",
   "id": "81352e9e",
   "metadata": {},
   "source": [
    "### Reccomendations"
   ]
  },
  {
   "cell_type": "markdown",
   "id": "547284a9",
   "metadata": {},
   "source": [
    "### Limitations"
   ]
  },
  {
   "cell_type": "code",
   "execution_count": null,
   "id": "b8781e08",
   "metadata": {},
   "outputs": [],
   "source": []
  }
 ],
 "metadata": {
  "kernelspec": {
   "display_name": "Python 3 (ipykernel)",
   "language": "python",
   "name": "python3"
  },
  "language_info": {
   "codemirror_mode": {
    "name": "ipython",
    "version": 3
   },
   "file_extension": ".py",
   "mimetype": "text/x-python",
   "name": "python",
   "nbconvert_exporter": "python",
   "pygments_lexer": "ipython3",
   "version": "3.10.9"
  }
 },
 "nbformat": 4,
 "nbformat_minor": 5
}
